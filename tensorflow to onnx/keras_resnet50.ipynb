{
  "cells": [
    {
      "cell_type": "markdown",
      "metadata": {
        "id": "mJ9VcEQGbN_f"
      },
      "source": [
        "## Conversion to ONNX from keras model using tf2onnx python api"
      ]
    },
    {
      "cell_type": "code",
      "execution_count": 1,
      "metadata": {
        "id": "Gnn9xTMvbN_g"
      },
      "outputs": [],
      "source": [
        "# get image\n",
        "!wget -q https://raw.githubusercontent.com/onnx/tensorflow-onnx/main/tests/ade20k.jpg"
      ]
    },
    {
      "cell_type": "code",
      "execution_count": 3,
      "metadata": {
        "id": "W91nRDZhbN_h",
        "outputId": "a81acd9a-49e6-4f2b-a399-4af8aec3089d",
        "colab": {
          "base_uri": "https://localhost:8080/"
        }
      },
      "outputs": [
        {
          "output_type": "stream",
          "name": "stdout",
          "text": [
            "\u001b[2K     \u001b[90m━━━━━━━━━━━━━━━━━━━━━━━━━━━━━━━━━━━━━━━━\u001b[0m \u001b[32m15.9/15.9 MB\u001b[0m \u001b[31m26.9 MB/s\u001b[0m eta \u001b[36m0:00:00\u001b[0m\n",
            "\u001b[2K     \u001b[90m━━━━━━━━━━━━━━━━━━━━━━━━━━━━━━━━━━━━━━━━\u001b[0m \u001b[32m46.0/46.0 kB\u001b[0m \u001b[31m3.5 MB/s\u001b[0m eta \u001b[36m0:00:00\u001b[0m\n",
            "\u001b[2K     \u001b[90m━━━━━━━━━━━━━━━━━━━━━━━━━━━━━━━━━━━━━━━━\u001b[0m \u001b[32m86.8/86.8 kB\u001b[0m \u001b[31m5.4 MB/s\u001b[0m eta \u001b[36m0:00:00\u001b[0m\n",
            "\u001b[?25h"
          ]
        }
      ],
      "source": [
        "!pip install tensorflow tf2onnx onnxruntime -q"
      ]
    },
    {
      "cell_type": "code",
      "execution_count": 4,
      "metadata": {
        "id": "IFEaWaIKbN_h"
      },
      "outputs": [],
      "source": [
        "import os\n",
        "import tensorflow as tf\n",
        "from tensorflow.keras.applications.resnet50 import ResNet50\n",
        "from tensorflow.keras.preprocessing import image\n",
        "from tensorflow.keras.applications.resnet50 import preprocess_input, decode_predictions\n",
        "import numpy as np\n",
        "import onnxruntime\n",
        "\n",
        "img_path = 'ade20k.jpg'\n",
        "\n",
        "img = image.load_img(img_path, target_size=(224, 224))\n",
        "\n",
        "x = image.img_to_array(img)\n",
        "x = np.expand_dims(x, axis=0)\n",
        "x = preprocess_input(x)"
      ]
    },
    {
      "cell_type": "markdown",
      "metadata": {
        "id": "PRL6KbjFbN_h"
      },
      "source": [
        "### Run the keras model"
      ]
    },
    {
      "cell_type": "code",
      "execution_count": 8,
      "metadata": {
        "id": "G2l2BsZebN_h",
        "outputId": "0567311c-91b7-488a-f8f8-2f86150cf60f",
        "colab": {
          "base_uri": "https://localhost:8080/"
        }
      },
      "outputs": [
        {
          "output_type": "stream",
          "name": "stdout",
          "text": [
            "1/1 [==============================] - 1s 1s/step\n"
          ]
        },
        {
          "output_type": "stream",
          "name": "stderr",
          "text": [
            "WARNING:tensorflow:Compiled the loaded model, but the compiled metrics have yet to be built. `model.compile_metrics` will be empty until you train or evaluate the model.\n"
          ]
        },
        {
          "output_type": "stream",
          "name": "stdout",
          "text": [
            "Keras Predicted: [('n04285008', 'sports_car', 0.34477925), ('n02974003', 'car_wheel', 0.2876423), ('n03100240', 'convertible', 0.10070901)]\n"
          ]
        }
      ],
      "source": [
        "model = ResNet50(weights='imagenet')\n",
        "\n",
        "preds = model.predict(x)\n",
        "print('Keras Predicted:', decode_predictions(preds, top=3)[0])\n",
        "model.save(os.path.join(\"./tmp\", model.name))"
      ]
    },
    {
      "cell_type": "markdown",
      "metadata": {
        "id": "0yM7c34_bN_i"
      },
      "source": [
        "### Convert to ONNX using the Python API"
      ]
    },
    {
      "cell_type": "code",
      "execution_count": 9,
      "metadata": {
        "id": "N1oPKNK-bN_i"
      },
      "outputs": [],
      "source": [
        "import tf2onnx\n",
        "import onnxruntime as rt\n",
        "\n",
        "spec = (tf.TensorSpec((None, 224, 224, 3), tf.float32, name=\"input\"),)\n",
        "output_path = model.name + \".onnx\"\n",
        "\n",
        "model_proto, _ = tf2onnx.convert.from_keras(model, input_signature=spec, opset=13, output_path=output_path)\n",
        "output_names = [n.name for n in model_proto.graph.output]"
      ]
    },
    {
      "cell_type": "markdown",
      "metadata": {
        "id": "KZror7I-bN_i"
      },
      "source": [
        "### Run the ONNX model"
      ]
    },
    {
      "cell_type": "code",
      "execution_count": 10,
      "metadata": {
        "id": "oaacza9fbN_i",
        "outputId": "5c82f27b-5da9-4da0-b452-7eef5a0f1966",
        "colab": {
          "base_uri": "https://localhost:8080/"
        }
      },
      "outputs": [
        {
          "output_type": "stream",
          "name": "stdout",
          "text": [
            "ONNX Predicted: [('n04285008', 'sports_car', 0.34477764), ('n02974003', 'car_wheel', 0.2876437), ('n03100240', 'convertible', 0.100708835)]\n"
          ]
        }
      ],
      "source": [
        "providers = ['CPUExecutionProvider']\n",
        "m = rt.InferenceSession(output_path, providers=providers)\n",
        "onnx_pred = m.run(output_names, {\"input\": x})\n",
        "\n",
        "print('ONNX Predicted:', decode_predictions(onnx_pred[0], top=3)[0])\n",
        "\n",
        "# make sure ONNX and keras have the same results\n",
        "np.testing.assert_allclose(preds, onnx_pred[0], rtol=1e-5)"
      ]
    },
    {
      "cell_type": "markdown",
      "metadata": {
        "id": "kjVctOJbbN_i"
      },
      "source": [
        "### Convert to ONNX using the command line"
      ]
    },
    {
      "cell_type": "code",
      "execution_count": 13,
      "metadata": {
        "scrolled": false,
        "id": "6cR_Ac59bN_j",
        "outputId": "cdcd25da-cdf3-4f38-e3be-9d73adecf9d0",
        "colab": {
          "base_uri": "https://localhost:8080/"
        }
      },
      "outputs": [
        {
          "output_type": "stream",
          "name": "stdout",
          "text": [
            "/usr/lib/python3.10/runpy.py:126: RuntimeWarning: 'tf2onnx.convert' found in sys.modules after import of package 'tf2onnx', but prior to execution of 'tf2onnx.convert'; this may result in unpredictable behaviour\n",
            "  warn(RuntimeWarning(msg))\n",
            "2024-05-31 16:20:59,807 - WARNING - '--tag' not specified for saved_model. Using --tag serve\n",
            "2024-05-31 16:21:09,036 - INFO - Signatures found in model: [serving_default].\n",
            "2024-05-31 16:21:09,036 - WARNING - '--signature_def' not specified, using first signature: serving_default\n",
            "2024-05-31 16:21:09,038 - INFO - Output names: ['predictions']\n",
            "2024-05-31 16:21:17,488 - INFO - Using tensorflow=2.15.0, onnx=1.16.1, tf2onnx=1.16.1/15c810\n",
            "2024-05-31 16:21:17,488 - INFO - Using opset <onnx, 13>\n",
            "2024-05-31 16:21:18,064 - INFO - Computed 0 values for constant folding\n",
            "2024-05-31 16:21:19,240 - INFO - Optimizing ONNX model\n",
            "2024-05-31 16:21:21,542 - INFO - After optimization: Add -1 (18->17), BatchNormalization -53 (53->0), Const -161 (271->110), GlobalAveragePool +1 (0->1), Identity -2 (2->0), ReduceMean -1 (1->0), Squeeze +1 (0->1), Transpose -213 (214->1)\n",
            "2024-05-31 16:21:21,894 - INFO - \n",
            "2024-05-31 16:21:21,894 - INFO - Successfully converted TensorFlow model ./tmp/resnet50 to ONNX\n",
            "2024-05-31 16:21:21,894 - INFO - Model inputs: ['input_2']\n",
            "2024-05-31 16:21:21,894 - INFO - Model outputs: ['predictions']\n",
            "2024-05-31 16:21:21,894 - INFO - ONNX model is saved at ./output/resnet50.onnx\n"
          ]
        }
      ],
      "source": [
        "!python -m tf2onnx.convert --opset 13 \\\n",
        "    --saved-model {os.path.join(\"./tmp\", model.name)} \\\n",
        "    --output  {os.path.join(\"./output\", model.name + \".onnx\")}"
      ]
    }
  ],
  "metadata": {
    "kernelspec": {
      "display_name": "Python 3",
      "language": "python",
      "name": "python3"
    },
    "language_info": {
      "codemirror_mode": {
        "name": "ipython",
        "version": 3
      },
      "file_extension": ".py",
      "mimetype": "text/x-python",
      "name": "python",
      "nbconvert_exporter": "python",
      "pygments_lexer": "ipython3",
      "version": "3.7.3"
    },
    "varInspector": {
      "cols": {
        "lenName": 16,
        "lenType": 16,
        "lenVar": 40
      },
      "kernels_config": {
        "python": {
          "delete_cmd_postfix": "",
          "delete_cmd_prefix": "del ",
          "library": "var_list.py",
          "varRefreshCmd": "print(var_dic_list())"
        },
        "r": {
          "delete_cmd_postfix": ") ",
          "delete_cmd_prefix": "rm(",
          "library": "var_list.r",
          "varRefreshCmd": "cat(var_dic_list()) "
        }
      },
      "types_to_exclude": [
        "module",
        "function",
        "builtin_function_or_method",
        "instance",
        "_Feature"
      ],
      "window_display": false
    },
    "colab": {
      "provenance": []
    }
  },
  "nbformat": 4,
  "nbformat_minor": 0
}