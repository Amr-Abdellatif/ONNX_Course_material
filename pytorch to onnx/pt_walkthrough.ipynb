{
 "cells": [
  {
   "cell_type": "code",
   "execution_count": 2,
   "metadata": {},
   "outputs": [
    {
     "name": "stderr",
     "output_type": "stream",
     "text": [
      "c:\\Users\\Amr osama abdellatif\\AppData\\Local\\Programs\\Python\\Python310\\lib\\site-packages\\sklearn\\preprocessing\\_encoders.py:868: FutureWarning: `sparse` was renamed to `sparse_output` in version 1.2 and will be removed in 1.4. `sparse_output` is ignored unless you leave `sparse` to its default value.\n",
      "  warnings.warn(\n"
     ]
    },
    {
     "name": "stdout",
     "output_type": "stream",
     "text": [
      "Epoch [10/50], Loss: 0.9038\n",
      "Epoch [20/50], Loss: 0.7324\n",
      "Epoch [30/50], Loss: 0.7290\n",
      "Epoch [40/50], Loss: 0.6058\n",
      "Epoch [50/50], Loss: 0.5859\n",
      "Test Accuracy: 0.9333\n",
      "PyTorch model saved to ./output/iris_model_pytorch.pth\n"
     ]
    }
   ],
   "source": [
    "# Section 1: Training a Simple Model\n",
    "\n",
    "import torch\n",
    "import torch.nn as nn\n",
    "import torch.optim as optim\n",
    "from sklearn.datasets import load_iris\n",
    "from sklearn.model_selection import train_test_split\n",
    "from sklearn.preprocessing import OneHotEncoder\n",
    "from torch.utils.data import DataLoader, TensorDataset\n",
    "\n",
    "# Load and prepare the dataset\n",
    "iris = load_iris()\n",
    "X = iris.data\n",
    "y = iris.target.reshape(-1, 1)\n",
    "\n",
    "# One-hot encode the target variable\n",
    "encoder = OneHotEncoder(sparse=False)\n",
    "y = encoder.fit_transform(y)\n",
    "\n",
    "# Split the data into training and test sets\n",
    "X_train, X_test, y_train, y_test = train_test_split(X, y, test_size=0.2, random_state=42)\n",
    "\n",
    "# Convert to PyTorch tensors\n",
    "X_train = torch.tensor(X_train, dtype=torch.float32)\n",
    "X_test = torch.tensor(X_test, dtype=torch.float32)\n",
    "y_train = torch.tensor(y_train, dtype=torch.float32)\n",
    "y_test = torch.tensor(y_test, dtype=torch.float32)\n",
    "\n",
    "# Create DataLoader\n",
    "train_dataset = TensorDataset(X_train, y_train)\n",
    "train_loader = DataLoader(train_dataset, batch_size=5, shuffle=True)\n",
    "\n",
    "# Define the model\n",
    "class SimpleNN(nn.Module):\n",
    "    def __init__(self):\n",
    "        super(SimpleNN, self).__init__()\n",
    "        self.fc1 = nn.Linear(X_train.shape[1], 10)\n",
    "        self.fc2 = nn.Linear(10, 10)\n",
    "        self.fc3 = nn.Linear(10, y_train.shape[1])\n",
    "\n",
    "    def forward(self, x):\n",
    "        x = torch.relu(self.fc1(x))\n",
    "        x = torch.relu(self.fc2(x))\n",
    "        x = torch.softmax(self.fc3(x), dim=1)\n",
    "        return x\n",
    "\n",
    "model = SimpleNN()\n",
    "\n",
    "# Define loss function and optimizer\n",
    "criterion = nn.CrossEntropyLoss()\n",
    "optimizer = optim.Adam(model.parameters(), lr=0.001)\n",
    "\n",
    "# Train the model\n",
    "for epoch in range(50):\n",
    "    for inputs, targets in train_loader:\n",
    "        optimizer.zero_grad()\n",
    "        outputs = model(inputs)\n",
    "        loss = criterion(outputs, targets.argmax(dim=1))\n",
    "        loss.backward()\n",
    "        optimizer.step()\n",
    "    if (epoch+1) % 10 == 0:\n",
    "        print(f'Epoch [{epoch+1}/50], Loss: {loss.item():.4f}')\n",
    "\n",
    "# Evaluate the model\n",
    "with torch.no_grad():\n",
    "    outputs = model(X_test)\n",
    "    _, predicted = torch.max(outputs, 1)\n",
    "    _, labels = torch.max(y_test, 1)\n",
    "    accuracy = (predicted == labels).float().mean()\n",
    "    print(f'Test Accuracy: {accuracy:.4f}')\n",
    "\n",
    "# Save the model in PyTorch format\n",
    "torch_model_path = './output/iris_model_pytorch.pth'\n",
    "torch.save(model.state_dict(), torch_model_path)\n",
    "print(f'PyTorch model saved to {torch_model_path}')\n"
   ]
  },
  {
   "cell_type": "code",
   "execution_count": 3,
   "metadata": {},
   "outputs": [
    {
     "name": "stdout",
     "output_type": "stream",
     "text": [
      "ONNX model saved to ./output/iris_model.onnx\n"
     ]
    },
    {
     "name": "stderr",
     "output_type": "stream",
     "text": [
      "C:\\Users\\Amr osama abdellatif\\AppData\\Local\\Temp\\ipykernel_23196\\2470347034.py:14: UserWarning: To copy construct from a tensor, it is recommended to use sourceTensor.clone().detach() or sourceTensor.clone().detach().requires_grad_(True), rather than torch.tensor(sourceTensor).\n",
      "  dummy_input = torch.tensor(X_train[0:1], dtype=torch.float32)\n"
     ]
    }
   ],
   "source": [
    "# Section 2: Conversion to ONNX\n",
    "\n",
    "import torch.onnx\n",
    "\n",
    "# Load the saved PyTorch model\n",
    "model = SimpleNN()\n",
    "model.load_state_dict(torch.load(torch_model_path))\n",
    "model.eval()\n",
    "\n",
    "# Define the model path\n",
    "onnx_model_path = './output/iris_model.onnx'\n",
    "\n",
    "# Convert the PyTorch model to ONNX\n",
    "dummy_input = torch.tensor(X_train[0:1], dtype=torch.float32)\n",
    "torch.onnx.export(model, dummy_input, onnx_model_path, \n",
    "                  input_names=['input'], output_names=['output'], \n",
    "                  dynamic_axes={'input': {0: 'batch_size'}, 'output': {0: 'batch_size'}},\n",
    "                  opset_version=13)\n",
    "\n",
    "print(f'ONNX model saved to {onnx_model_path}')\n"
   ]
  },
  {
   "cell_type": "code",
   "execution_count": 4,
   "metadata": {},
   "outputs": [
    {
     "name": "stdout",
     "output_type": "stream",
     "text": [
      "Predicted labels: [2 2 2]\n"
     ]
    }
   ],
   "source": [
    "# Section 3: Inference\n",
    "\n",
    "import onnxruntime as ort\n",
    "import numpy as np\n",
    "\n",
    "# Load the ONNX model\n",
    "onnx_model = ort.InferenceSession(onnx_model_path)\n",
    "\n",
    "# Provided data for inference\n",
    "data = np.array([[4.5, 4.9, 5.1, 5.4],\n",
    "                 [1.5, 2.9, 3.1, 1.4],\n",
    "                 [7.5, 6.9, 8.1, 6.4]], dtype=np.float32)\n",
    "\n",
    "def prepare_input(data):\n",
    "    return {onnx_model.get_inputs()[0].name: data}\n",
    "\n",
    "# Make predictions\n",
    "input_data = prepare_input(data)\n",
    "predictions = onnx_model.run(None, input_data)\n",
    "\n",
    "# Convert the predictions to class labels\n",
    "predicted_labels = np.argmax(predictions[0], axis=1)\n",
    "print(f'Predicted labels: {predicted_labels}')\n"
   ]
  }
 ],
 "metadata": {
  "kernelspec": {
   "display_name": "Python 3",
   "language": "python",
   "name": "python3"
  },
  "language_info": {
   "codemirror_mode": {
    "name": "ipython",
    "version": 3
   },
   "file_extension": ".py",
   "mimetype": "text/x-python",
   "name": "python",
   "nbconvert_exporter": "python",
   "pygments_lexer": "ipython3",
   "version": "3.10.4"
  },
  "orig_nbformat": 4
 },
 "nbformat": 4,
 "nbformat_minor": 2
}
