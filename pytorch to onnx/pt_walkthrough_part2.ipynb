{
 "cells": [
  {
   "cell_type": "code",
   "execution_count": 1,
   "metadata": {},
   "outputs": [
    {
     "name": "stderr",
     "output_type": "stream",
     "text": [
      "Using cache found in C:\\Users\\Amr osama abdellatif/.cache\\torch\\hub\\pytorch_vision_v0.10.0\n"
     ]
    }
   ],
   "source": [
    "import torch\n",
    "\n",
    "# Download the MobileNetV2 model\n",
    "model = torch.hub.load('pytorch/vision:v0.10.0', 'mobilenet_v2', pretrained=True)\n",
    "# model.eval()"
   ]
  },
  {
   "cell_type": "code",
   "execution_count": 2,
   "metadata": {},
   "outputs": [],
   "source": [
    "import torch.onnx\n",
    "\n",
    "# Define dummy input for the model (1 image, 3 channels, 224x224 pixels)\n",
    "dummy_input = torch.randn(1, 3, 224, 224)\n",
    "\n",
    "# Export the model to ONNX format\n",
    "onnx_model_path = \"./output/mobilenet_v2_jit.onnx\"\n",
    "torch.onnx.export(model, dummy_input, onnx_model_path, verbose=True, opset_version=11)\n"
   ]
  },
  {
   "cell_type": "code",
   "execution_count": 7,
   "metadata": {},
   "outputs": [
    {
     "name": "stdout",
     "output_type": "stream",
     "text": [
      "(1, 1000)\n",
      "Predicted class: 99\n"
     ]
    },
    {
     "name": "stderr",
     "output_type": "stream",
     "text": [
      "c:\\Users\\Amr osama abdellatif\\AppData\\Local\\Programs\\Python\\Python310\\lib\\site-packages\\onnxruntime\\capi\\onnxruntime_inference_collection.py:69: UserWarning: Specified provider 'CUDAExecutionProvider' is not in available provider names.Available providers: 'AzureExecutionProvider, CPUExecutionProvider'\n",
      "  warnings.warn(\n"
     ]
    }
   ],
   "source": [
    "import onnxruntime as ort\n",
    "import numpy as np\n",
    "from PIL import Image\n",
    "from torchvision import transforms\n",
    "\n",
    "# Load the ONNX model\n",
    "ort_session = ort.InferenceSession(\"./output/mobilenet_v2_jit.onnx\", providers=['CUDAExecutionProvider'])\n",
    "\n",
    "# Preprocess the input image\n",
    "def preprocess(image_path):\n",
    "    # Open the image file\n",
    "    image = Image.open(image_path).convert('RGB')\n",
    "    \n",
    "    # Define the transformation\n",
    "    preprocess = transforms.Compose([\n",
    "        transforms.Resize(256),\n",
    "        transforms.CenterCrop(224),\n",
    "        transforms.ToTensor(),\n",
    "        transforms.Normalize(mean=[0.485, 0.456, 0.406], std=[0.229, 0.224, 0.225]),\n",
    "    ])\n",
    "    \n",
    "    # Apply the transformation\n",
    "    img_tensor = preprocess(image)\n",
    "    \n",
    "    # Add batch dimension\n",
    "    img_tensor = img_tensor.unsqueeze(0)\n",
    "    \n",
    "    return img_tensor.numpy()\n",
    "\n",
    "# Perform inference\n",
    "def infer(image_path):\n",
    "    # Preprocess the image\n",
    "    img_input = preprocess(image_path)\n",
    "    \n",
    "    # Run the model on the input image\n",
    "    ort_inputs = {ort_session.get_inputs()[0].name: img_input}\n",
    "    ort_outs = ort_session.run(None, ort_inputs)\n",
    "    \n",
    "    # Get the output class\n",
    "    output = ort_outs[0]\n",
    "    print(output.shape) # the probability of each class in the output\n",
    "    predicted_class = np.argmax(output, axis=1)\n",
    "    \n",
    "    return predicted_class\n",
    "\n",
    "# Provide the path to the image you want to classify\n",
    "image_path = './swan.jpeg'\n",
    "predicted_class = infer(image_path)\n",
    "print(f'Predicted class: {predicted_class[0]}')\n"
   ]
  },
  {
   "cell_type": "code",
   "execution_count": 4,
   "metadata": {},
   "outputs": [],
   "source": [
    "import torch\n",
    "import torch.nn as nn\n",
    "import torch.nn.functional as F\n",
    "\n",
    "\n",
    "class MyModel(nn.Module):\n",
    "\n",
    "    def __init__(self):\n",
    "        super(MyModel, self).__init__()\n",
    "        self.conv1 = nn.Conv2d(1, 6, 5)\n",
    "        self.conv2 = nn.Conv2d(6, 16, 5)\n",
    "        self.fc1 = nn.Linear(16 * 5 * 5, 120)\n",
    "        self.fc2 = nn.Linear(120, 84)\n",
    "        self.fc3 = nn.Linear(84, 10)\n",
    "\n",
    "    def forward(self, x):\n",
    "        x = F.max_pool2d(F.relu(self.conv1(x)), (2, 2))\n",
    "        x = F.max_pool2d(F.relu(self.conv2(x)), 2)\n",
    "        x = torch.flatten(x, 1)\n",
    "        x = F.relu(self.fc1(x))\n",
    "        x = F.relu(self.fc2(x))\n",
    "        x = self.fc3(x)\n",
    "        return x"
   ]
  },
  {
   "cell_type": "code",
   "execution_count": 15,
   "metadata": {},
   "outputs": [
    {
     "name": "stderr",
     "output_type": "stream",
     "text": [
      "c:\\Users\\Amr osama abdellatif\\AppData\\Local\\Programs\\Python\\Python310\\lib\\site-packages\\torch\\onnx\\_internal\\exporter.py:136: UserWarning: torch.onnx.dynamo_export only implements opset version 18 for now. If you need to use a different opset version, please register them with register_custom_op.\n",
      "  warnings.warn(\n"
     ]
    }
   ],
   "source": [
    "torch_model = MyModel()\n",
    "torch_input = torch.randn(1, 1, 32, 32)\n",
    "export_options = torch.onnx.ExportOptions(dynamic_shapes=True)\n",
    "onnx_program = torch.onnx.dynamo_export(torch_model, torch_input,export_options=export_options)\n",
    "onnx_program.save(\"./output/my_dynamic_model.onnx\")"
   ]
  },
  {
   "cell_type": "code",
   "execution_count": null,
   "metadata": {},
   "outputs": [],
   "source": []
  }
 ],
 "metadata": {
  "kernelspec": {
   "display_name": "Python 3",
   "language": "python",
   "name": "python3"
  },
  "language_info": {
   "codemirror_mode": {
    "name": "ipython",
    "version": 3
   },
   "file_extension": ".py",
   "mimetype": "text/x-python",
   "name": "python",
   "nbconvert_exporter": "python",
   "pygments_lexer": "ipython3",
   "version": "3.10.4"
  },
  "orig_nbformat": 4
 },
 "nbformat": 4,
 "nbformat_minor": 2
}
